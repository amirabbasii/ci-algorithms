{
  "nbformat": 4,
  "nbformat_minor": 0,
  "metadata": {
    "colab": {
      "name": "prjectAC.ipynb",
      "provenance": [],
      "collapsed_sections": [],
      "toc_visible": true
    },
    "kernelspec": {
      "name": "python3",
      "display_name": "Python 3"
    },
    "accelerator": "GPU"
  },
  "cells": [
    {
      "cell_type": "markdown",
      "metadata": {
        "id": "A-X6cdoQxXNO",
        "colab_type": "text"
      },
      "source": [
        "Import used modules"
      ]
    },
    {
      "cell_type": "code",
      "metadata": {
        "id": "9hpIutQJsLVq",
        "colab_type": "code",
        "colab": {}
      },
      "source": [
        ""
      ],
      "execution_count": 0,
      "outputs": []
    },
    {
      "cell_type": "code",
      "metadata": {
        "id": "Uat_aEGuxfdZ",
        "colab_type": "code",
        "colab": {}
      },
      "source": [
        "import os\n",
        "import numpy as np\n",
        "from keras.callbacks import ModelCheckpoint\n",
        "from  PIL import Image\n",
        "from tensorflow import keras\n",
        "from tensorflow.keras.layers import  Dense, Flatten"
      ],
      "execution_count": 0,
      "outputs": []
    },
    {
      "cell_type": "markdown",
      "metadata": {
        "id": "5HhAbiMDqxrp",
        "colab_type": "text"
      },
      "source": [
        "Download dataset+preparing the dataset(Train,Val,Test)\n"
      ]
    },
    {
      "cell_type": "code",
      "metadata": {
        "id": "GNggn6W8oheG",
        "colab_type": "code",
        "colab": {}
      },
      "source": [
        "!wget \"https://download.microsoft.com/download/3/E/1/3E1C3F21-ECDB-4869-8368-6DEBA77B919F/kagglecatsanddogs_3367a.zip\"\n",
        "!unzip \"/content/kagglecatsanddogs_3367a.zip\"\n",
        "!rm \"/content/PetImages/Cat/Thumbs.db\"\n",
        "!rm \"/content/PetImages/Dog/Thumbs.db\"\n",
        "address_cats=\"/content/PetImages/Cat\"\n",
        "address_dogs=\"/content/PetImages/Dog\"\n",
        "\n",
        "\n",
        "# #preparing cat images\n",
        "cats=[]\n",
        "tmp=os.listdir(address_cats)\n",
        "for i in tmp[:1000]:\n",
        "  try:\n",
        "    img=Image.open(address_cats+\"/\"+i)\n",
        "    img = img.resize((224, 224))\n",
        "    img=np.array(img) / 255.\n",
        "    if img.shape==(224,224,3):\n",
        "      cats.append(img)\n",
        "  except:\n",
        "    print(\"ignored loading \",i)\n",
        "\n",
        "#preparing dog images\n",
        "dogs=[]\n",
        "tmp=os.listdir(address_dogs)\n",
        "for i in tmp[:1000]:\n",
        "  try:\n",
        "    img=Image.open(address_dogs+\"/\"+i)\n",
        "    img = img.resize((224, 224))\n",
        "    img=np.array(img) / 255.\n",
        "\n",
        "    if img.shape==(224,224,3):\n",
        "       dogs.append(img)\n",
        "  except:\n",
        "    print(\"ignored loading \",i)\n",
        "###ratio for dividing data into Train,Val,Test\n",
        "size=len(dogs)\n",
        "train_interval=range(0,int(0.6*size))\n",
        "val_interval=range(int(0.6*size)+1,int(0.6*size)+1+int(0.2*size))\n",
        "test_interval=(int(0.8*size)+1,size)\n",
        "\n",
        "\n",
        "####preparing Train Set\n",
        "x_train=[]\n",
        "y_train=[]\n",
        "for i in train_interval:\n",
        "  x_train.append(cats[i])\n",
        "  y_train.append(0)\n",
        "for i in train_interval:\n",
        "  x_train.append(dogs[i])\n",
        "  y_train.append(1)\n",
        "x_train=np.array(x_train)\n",
        "y_train=np.array(y_train)\n",
        "#preparing Val Set\n",
        "x_val=[]\n",
        "y_val=[]\n",
        "for i in val_interval:\n",
        "  x_val.append(cats[i])\n",
        "  y_val.append(0)\n",
        "for i in val_interval:\n",
        "  x_val.append(dogs[i])\n",
        "  y_val.append(1)\n",
        "x_val=np.array(x_val)\n",
        "y_val=np.array(y_val)\n",
        "# #preparing Test Set\n",
        "# x_test=[]\n",
        "# y_test=[]\n",
        "# for i in test_interval:\n",
        "#   x_test.append(cats[i])\n",
        "#   y_test.append(0)\n",
        "# for i in test_interval:\n",
        "#   x_test.append(dogs[i])\n",
        "#   y_test.append(1)\n",
        "# x_test=np.array(x_test)\n",
        "# y_test=np.array(y_test)\n"
      ],
      "execution_count": 0,
      "outputs": []
    },
    {
      "cell_type": "code",
      "metadata": {
        "id": "4BbtgxoCyQGk",
        "colab_type": "code",
        "colab": {}
      },
      "source": [
        "model=keras.applications.vgg19.VGG19(include_top=False, weights='imagenet',input_shape=(224,224,3))\n",
        "for i in model.layers:\n",
        "  i.trainable=False\n",
        "x = Flatten()(model.layers[-1].output)\n",
        "x = Dense(1024, activation=\"selu\")(x)\n",
        "x=Dense(1, activation=\"sigmoid\")(x)\n",
        "model=keras.Model(model.input,x)\n"
      ],
      "execution_count": 0,
      "outputs": []
    },
    {
      "cell_type": "code",
      "metadata": {
        "id": "cRuIucwO3UQd",
        "colab_type": "code",
        "colab": {}
      },
      "source": [
        "checkpoint = ModelCheckpoint(\"w.h5\", monitor='val_accuracy', verbose=1, save_best_only=True, mode='max')\n",
        "model.compile(optimizer=\"adam\",loss=\"binary_crossentropy\",metrics=['accuracy'])\n",
        "model.fit(x=x_train,y=y_train,epochs=50,validation_data=(x_val,y_val),batch_size=256,callbacks=[checkpoint])\n"
      ],
      "execution_count": 0,
      "outputs": []
    },
    {
      "cell_type": "code",
      "metadata": {
        "id": "A7xgYFrqCt7R",
        "colab_type": "code",
        "colab": {}
      },
      "source": [
        "cats=[]\n",
        "tmp=os.listdir(address_cats)\n",
        "for i in tmp[1000:2000]:\n",
        "  try:\n",
        "    img=Image.open(address_cats+\"/\"+i)\n",
        "    img = img.resize((224, 224))\n",
        "    img=np.array(img) / 255.\n",
        "    if img.shape==(224,224,3):\n",
        "      cats.append(img)\n",
        "  except:\n",
        "    print(\"ignored loading \",i)\n",
        "\n",
        "#preparing dog images\n",
        "dogs=[]\n",
        "tmp=os.listdir(address_dogs)\n",
        "for i in tmp[1000:2000]:\n",
        "  try:\n",
        "    img=Image.open(address_dogs+\"/\"+i)\n",
        "    img = img.resize((224, 224))\n",
        "    img=np.array(img) / 255.\n",
        "\n",
        "    if img.shape==(224,224,3):\n",
        "       dogs.append(img)\n",
        "  except:\n",
        "    print(\"ignored loading \",i)"
      ],
      "execution_count": 0,
      "outputs": []
    },
    {
      "cell_type": "code",
      "metadata": {
        "id": "oCVQyIWCC5qK",
        "colab_type": "code",
        "colab": {}
      },
      "source": [
        "\n",
        "x_test=[]\n",
        "y_test=[]\n",
        "for i in range(len(cats)):\n",
        "  x_test.append(cats[i])\n",
        "  y_test.append(0)\n",
        "for i in range(len(dogs)):\n",
        "  x_test.append(dogs[i])\n",
        "  y_test.append(1)\n",
        "x_test=np.array(x_test)\n",
        "y_test=np.array(y_test)\n",
        "del cats\n",
        "del dogs\n"
      ],
      "execution_count": 0,
      "outputs": []
    },
    {
      "cell_type": "code",
      "metadata": {
        "id": "3Dcbd5rFDJdc",
        "colab_type": "code",
        "outputId": "754a359e-0058-493c-82b4-a6363a989c11",
        "colab": {
          "base_uri": "https://localhost:8080/",
          "height": 50
        }
      },
      "source": [
        "model.evaluate(x_test,y_test)"
      ],
      "execution_count": 0,
      "outputs": [
        {
          "output_type": "stream",
          "text": [
            "1992/1992 [==============================] - 7s 3ms/sample - loss: 0.2689 - acc: 0.8916\n"
          ],
          "name": "stdout"
        },
        {
          "output_type": "execute_result",
          "data": {
            "text/plain": [
              "[0.2688913242704418, 0.8915663]"
            ]
          },
          "metadata": {
            "tags": []
          },
          "execution_count": 9
        }
      ]
    }
  ]
}